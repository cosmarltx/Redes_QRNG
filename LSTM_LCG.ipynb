{
 "cells": [
  {
   "cell_type": "markdown",
   "id": "53a4ff4e",
   "metadata": {
    "id": "53a4ff4e"
   },
   "source": [
    "# Librerías"
   ]
  },
  {
   "cell_type": "code",
   "execution_count": null,
   "id": "998086c7",
   "metadata": {
    "executionInfo": {
     "elapsed": 4011,
     "status": "ok",
     "timestamp": 1679510072090,
     "user": {
      "displayName": "JULIO MARCOS MONZON BALDETTI",
      "userId": "13304646209288137935"
     },
     "user_tz": 360
    },
    "id": "998086c7"
   },
   "outputs": [],
   "source": [
    "import numpy as np\n",
    "import matplotlib.pyplot as plt\n",
    "import random as rd\n",
    "\n",
    "import tensorflow as tf\n",
    "from keras.models import Sequential\n",
    "from keras.layers import Flatten,Dense,Dropout,BatchNormalization,LSTM\n",
    "from keras.optimizers import Adam\n",
    "from keras.regularizers import l2\n",
    "from keras.callbacks import EarlyStopping\n",
    "\n",
    "plt.rcParams['figure.figsize'] = [8, 6] "
   ]
  },
  {
   "cell_type": "markdown",
   "id": "82058720",
   "metadata": {
    "id": "82058720"
   },
   "source": [
    "# LCG de 8 bits\n",
    "Se define la función \"LCG\" que devuelve una secuencia de números pseudoaleatorios de 8 bits de acuerdo a la fórmula recursiva\n",
    "\n",
    "$X_{n+1} = \\left(aX_n + c\\right)\\text{mod}\\;\\mathcal{M}$ \n",
    "\n",
    "Donde $a$, $c$ y $\\mathcal{M}$ son el multiplicador, incremento y periodo del generador, respectivamente. \n",
    "En este caso, se hace $\\mathcal{M} = 2^{\\text{potencia}}$, donde \"potencia\" es una variable utilizada para definir el periodo del generador."
   ]
  },
  {
   "cell_type": "code",
   "execution_count": null,
   "id": "a6f04f04",
   "metadata": {
    "executionInfo": {
     "elapsed": 282,
     "status": "ok",
     "timestamp": 1679510074820,
     "user": {
      "displayName": "JULIO MARCOS MONZON BALDETTI",
      "userId": "13304646209288137935"
     },
     "user_tz": 360
    },
    "id": "a6f04f04"
   },
   "outputs": [],
   "source": [
    "bits = 8\n",
    "potencia = 20\n",
    "\n",
    "def LCG(seed,longitud):\n",
    "    numeros_generados = np.zeros(longitud, dtype = 'int16')\n",
    "\n",
    "    a = 25214903917\n",
    "    c = 1\n",
    "    M = 2 ** potencia\n",
    "    \n",
    "    xi = seed\n",
    "    xf = 0\n",
    "\n",
    "    numeros_generados[0] = int(((seed%M)/M) * (2 ** bits))\n",
    "\n",
    "    for i in range(1,longitud):\n",
    "        xf = (a*xi + c)%M\n",
    "        xi = xf\n",
    "  \n",
    "        numeros_generados[i] = int((xf/M) * (2 ** bits))\n",
    "\n",
    "    return numeros_generados"
   ]
  },
  {
   "cell_type": "markdown",
   "id": "0386fea2",
   "metadata": {
    "id": "0386fea2"
   },
   "source": [
    "Se crea el arreglo \"muestras\" que será utilizado para construir los conjuntos de machine learning. La semilla se elige aleatoriamente. La secuencia pseudoaleatoria tiene como longitud el periodo del generador."
   ]
  },
  {
   "cell_type": "code",
   "execution_count": null,
   "id": "1856ef23",
   "metadata": {
    "colab": {
     "base_uri": "https://localhost:8080/",
     "height": 388
    },
    "executionInfo": {
     "elapsed": 8138,
     "status": "ok",
     "timestamp": 1679510085042,
     "user": {
      "displayName": "JULIO MARCOS MONZON BALDETTI",
      "userId": "13304646209288137935"
     },
     "user_tz": 360
    },
    "id": "1856ef23",
    "outputId": "ba875e6b-78aa-4b75-e011-1f9f258d72d7"
   },
   "outputs": [],
   "source": [
    "muestras = LCG(seed = rd.randint(1,1000), longitud = 2 ** potencia)\n",
    "prob_adivinar = 1/(2 ** bits)\n",
    "\n",
    "n, bins, patches = plt.hist(muestras, bins = 2 ** bits, density = 1, color = 'green')\n",
    "plt.axhline(prob_adivinar, color = 'red', label = 'y = ' + str(prob_adivinar))\n",
    "plt.xlabel('Número de 8 bits')\n",
    "plt.ylabel('Probabilidad')\n",
    "plt.legend()\n",
    "plt.grid()\n",
    "plt.show()"
   ]
  },
  {
   "cell_type": "markdown",
   "id": "1c9d6834",
   "metadata": {
    "id": "1c9d6834"
   },
   "source": [
    "# Conjuntos de ML\n",
    "Se construyen los conjuntos de entrenamiento y prueba o test. Como input, se utilizan secuencias cuya longitud es dada por la variable \"longitud_input\". Dichas secuencias se codifican con vectores one-hot. Por otro lado, \"porcentaje\" determina qué fracción de la muestra será para entrenar y cuanto se utilizará para el test final."
   ]
  },
  {
   "cell_type": "code",
   "execution_count": null,
   "id": "43a594ce",
   "metadata": {
    "colab": {
     "base_uri": "https://localhost:8080/"
    },
    "executionInfo": {
     "elapsed": 17332,
     "status": "ok",
     "timestamp": 1679510106174,
     "user": {
      "displayName": "JULIO MARCOS MONZON BALDETTI",
      "userId": "13304646209288137935"
     },
     "user_tz": 360
    },
    "id": "43a594ce",
    "outputId": "e11623f3-f3e9-4f62-ba76-ce80244b14f5"
   },
   "outputs": [],
   "source": [
    "longitud_input = 13\n",
    "porcentaje = 0.8\n",
    "\n",
    "longitud_entrenamiento = int(porcentaje * 2 ** potencia)\n",
    "longitud_test = int((1 - porcentaje) * 2 ** potencia - (longitud_input + 1))\n",
    "\n",
    "inputs_entrenamiento = np.zeros((longitud_entrenamiento, longitud_input, 2 ** bits), dtype = 'int8')\n",
    "outputs_entrenamiento = np.zeros((longitud_entrenamiento, 2 ** bits), dtype = 'int8')\n",
    "\n",
    "inputs_test = np.zeros((longitud_test, longitud_input, 2 ** bits), dtype = 'int8')\n",
    "outputs_test = np.zeros((longitud_test, 2 ** bits), dtype = 'int8')\n",
    "\n",
    "for i in range(0, longitud_entrenamiento):\n",
    "    for j in range(0, longitud_input):\n",
    "        inputs_entrenamiento[i, j, muestras[i + j]] = 1 \n",
    "    \n",
    "    outputs_entrenamiento[i, muestras[i + longitud_input]] = 1\n",
    "    \n",
    "for i in range(longitud_entrenamiento, longitud_entrenamiento + longitud_test):\n",
    "    for j in range(0, longitud_input):\n",
    "        inputs_test[i - longitud_entrenamiento, j, muestras[i + j]] = 1\n",
    "        \n",
    "    outputs_test[i - longitud_entrenamiento, muestras[i + longitud_input]] = 1\n",
    "    \n",
    "print(inputs_entrenamiento.shape)\n",
    "print(outputs_entrenamiento.shape)\n",
    "print(inputs_test.shape)\n",
    "print(outputs_test.shape)\n",
    "\n",
    "del muestras #Se borra muestras para ahorrar espacio en memoria"
   ]
  },
  {
   "cell_type": "markdown",
   "id": "71ec196d",
   "metadata": {
    "id": "71ec196d"
   },
   "source": [
    "# Modelo de red recurrente con LSTM\n",
    "Se construye el modelo de red con keras."
   ]
  },
  {
   "cell_type": "code",
   "execution_count": null,
   "id": "836f3c01",
   "metadata": {
    "colab": {
     "base_uri": "https://localhost:8080/"
    },
    "executionInfo": {
     "elapsed": 3942,
     "status": "ok",
     "timestamp": 1679510114244,
     "user": {
      "displayName": "JULIO MARCOS MONZON BALDETTI",
      "userId": "13304646209288137935"
     },
     "user_tz": 360
    },
    "id": "836f3c01",
    "outputId": "5c1c982a-01e6-48b0-f631-7279292e8768"
   },
   "outputs": [],
   "source": [
    "input_data_shape = (longitud_input, 2 ** bits)\n",
    "activacion_lstm = 'relu'\n",
    "activacion_oculta = 'relu'\n",
    "activacion_output = 'softmax'\n",
    "\n",
    "lstm = Sequential()\n",
    "\n",
    "lstm.add(LSTM(units = 128, input_shape = input_data_shape, activation = activacion_lstm,\n",
    "              return_sequences = False, name = 'capa_lstm'))\n",
    "lstm.add(BatchNormalization())\n",
    "lstm.add(Dense(units = 128, activation = activacion_oculta, name = 'capa_oculta'))\n",
    "lstm.add(BatchNormalization())\n",
    "lstm.add(Dense(units = 2 ** bits, activation = activacion_output, name = 'capa_output'))\n",
    "\n",
    "lstm.summary()"
   ]
  },
  {
   "cell_type": "markdown",
   "id": "b07b11dd",
   "metadata": {
    "id": "b07b11dd"
   },
   "source": [
    "# Entrenamiento\n",
    "Se entrena el modelo de machine learning con el conjunto de entrenamiento. Algunos hiperparámetros como la tasa de entrenamiento y el número de epochs se establecen al principio de la celda. La función de costo es \"categorical_crossentropy\". Adicionalmente, se utiliza un 10% de la data de entrenamiento como data de validación.\n",
    "\n",
    "Cabe mencionar que se aplica un EarlyStopping, el cual detiene el entrenamiento cuando el costo de validación no mejora en 10 epochs consecutivos. Al final del entrenamiento, se guarda la red con los parámetros que minimizaron el costo de validación."
   ]
  },
  {
   "cell_type": "code",
   "execution_count": null,
   "id": "212c3430",
   "metadata": {
    "colab": {
     "base_uri": "https://localhost:8080/"
    },
    "executionInfo": {
     "elapsed": 3061711,
     "status": "ok",
     "timestamp": 1679513183616,
     "user": {
      "displayName": "JULIO MARCOS MONZON BALDETTI",
      "userId": "13304646209288137935"
     },
     "user_tz": 360
    },
    "id": "212c3430",
    "outputId": "e1d936d1-8ea4-413b-dcfe-e7ceff97503b"
   },
   "outputs": [],
   "source": [
    "tasa_entrenamiento = 0.001\n",
    "numero_epochs = 200\n",
    "tamanio_minilote = 1024\n",
    "\n",
    "optimizador = Adam(learning_rate = tasa_entrenamiento)\n",
    "funcion_costo = 'categorical_crossentropy'\n",
    "metrica = ['accuracy']\n",
    "callback = EarlyStopping(monitor = 'val_loss', patience = 10, restore_best_weights=True)\n",
    "\n",
    "lstm.compile(optimizer = optimizador, loss = funcion_costo, metrics = metrica)\n",
    "entrenamiento = lstm.fit(inputs_entrenamiento, outputs_entrenamiento, batch_size = tamanio_minilote,\n",
    "                        callbacks = [callback], validation_split= 0.1, epochs = numero_epochs)"
   ]
  },
  {
   "cell_type": "markdown",
   "id": "8eef0240",
   "metadata": {
    "id": "8eef0240"
   },
   "source": [
    "# Gráficas\n",
    "Se observa la evolución de la red a través de gráficas de costo y precisión tanto sobre el conjunto de entrenamiento como el conjunto de validación."
   ]
  },
  {
   "cell_type": "code",
   "execution_count": null,
   "id": "0bffea47",
   "metadata": {
    "colab": {
     "base_uri": "https://localhost:8080/",
     "height": 759
    },
    "executionInfo": {
     "elapsed": 1354,
     "status": "ok",
     "timestamp": 1679513456375,
     "user": {
      "displayName": "JULIO MARCOS MONZON BALDETTI",
      "userId": "13304646209288137935"
     },
     "user_tz": 360
    },
    "id": "0bffea47",
    "outputId": "cdff88aa-9ed2-42a2-e96c-795d994c109b"
   },
   "outputs": [],
   "source": [
    "plt.plot(entrenamiento.history['accuracy'], label = 'Entrenamiento')\n",
    "plt.plot(entrenamiento.history['val_accuracy'], label = 'Validación')\n",
    "plt.axhline(prob_adivinar, color = 'red', label = 'P. Adivinar')\n",
    "plt.ylabel('Precisión')\n",
    "plt.xlabel('Epoch')\n",
    "plt.grid()\n",
    "plt.legend()\n",
    "plt.show()\n",
    "\n",
    "plt.plot(entrenamiento.history['loss'], label = 'Entrenamiento')\n",
    "plt.plot(entrenamiento.history['val_loss'], label = 'Validación')\n",
    "plt.ylabel('Costo')\n",
    "plt.xlabel('Epoch')\n",
    "plt.grid()\n",
    "plt.legend()\n",
    "plt.show()"
   ]
  },
  {
   "cell_type": "markdown",
   "id": "a4c290ff",
   "metadata": {
    "id": "a4c290ff"
   },
   "source": [
    "# Evaluación\n",
    "Se evalúa la red mediante el conjunto de prueba o test para observar si el modelo pudo generalizarse."
   ]
  },
  {
   "cell_type": "code",
   "execution_count": null,
   "id": "5f6fa653",
   "metadata": {
    "colab": {
     "base_uri": "https://localhost:8080/"
    },
    "executionInfo": {
     "elapsed": 41999,
     "status": "ok",
     "timestamp": 1679513501264,
     "user": {
      "displayName": "JULIO MARCOS MONZON BALDETTI",
      "userId": "13304646209288137935"
     },
     "user_tz": 360
    },
    "id": "5f6fa653",
    "outputId": "d47c3c88-370f-441a-cd70-7a1af5796f5c"
   },
   "outputs": [],
   "source": [
    "costo_test, precision_test = lstm.evaluate(inputs_test, outputs_test)\n",
    "\n",
    "print(\"El costo sobre el conjunto de prueba es: \" + str(costo_test))\n",
    "print(\"La precisión sobre el conjunto de prueba es: \" + str(precision_test))"
   ]
  }
 ],
 "metadata": {
  "accelerator": "GPU",
  "colab": {
   "provenance": []
  },
  "gpuClass": "standard",
  "kernelspec": {
   "display_name": "Python 3 (ipykernel)",
   "language": "python",
   "name": "python3"
  },
  "language_info": {
   "codemirror_mode": {
    "name": "ipython",
    "version": 3
   },
   "file_extension": ".py",
   "mimetype": "text/x-python",
   "name": "python",
   "nbconvert_exporter": "python",
   "pygments_lexer": "ipython3",
   "version": "3.9.13"
  }
 },
 "nbformat": 4,
 "nbformat_minor": 5
}
