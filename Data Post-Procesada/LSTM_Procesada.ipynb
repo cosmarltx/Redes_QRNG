{
 "cells": [
  {
   "cell_type": "markdown",
   "id": "6c240acf",
   "metadata": {
    "id": "6c240acf"
   },
   "source": [
    "# Librerías"
   ]
  },
  {
   "cell_type": "code",
   "execution_count": null,
   "id": "7371b45c",
   "metadata": {
    "executionInfo": {
     "elapsed": 5,
     "status": "ok",
     "timestamp": 1679925090972,
     "user": {
      "displayName": "JULIO MARCOS MONZON BALDETTI",
      "userId": "13304646209288137935"
     },
     "user_tz": 360
    },
    "id": "7371b45c"
   },
   "outputs": [],
   "source": [
    "import matplotlib.pyplot as plt\n",
    "import numpy as np\n",
    "\n",
    "import tensorflow as tf\n",
    "from keras.models import Sequential\n",
    "from keras.layers import Flatten,Dense,Dropout,BatchNormalization,LSTM\n",
    "from keras.optimizers import Adam\n",
    "from keras.regularizers import l2\n",
    "from keras.callbacks import EarlyStopping\n",
    "\n",
    "plt.rcParams['figure.figsize'] = [8, 6] "
   ]
  },
  {
   "cell_type": "code",
   "execution_count": null,
   "id": "8e72e026",
   "metadata": {
    "executionInfo": {
     "elapsed": 1411,
     "status": "ok",
     "timestamp": 1679924995703,
     "user": {
      "displayName": "JULIO MARCOS MONZON BALDETTI",
      "userId": "13304646209288137935"
     },
     "user_tz": 360
    },
    "id": "8e72e026"
   },
   "outputs": [],
   "source": [
    "largo_generacion = 625000 #Valor en bytes, en bits multiplicar por 8"
   ]
  },
  {
   "cell_type": "markdown",
   "id": "07e95940",
   "metadata": {
    "id": "07e95940"
   },
   "source": [
    "# Data post procesada\n",
    "Se crea el arreglo de muestras partiendo del archivo data_1bit.txt que contiene 5000000 de datos post procesados del QRNG en formato binario."
   ]
  },
  {
   "cell_type": "code",
   "execution_count": null,
   "id": "31eb4923",
   "metadata": {
    "executionInfo": {
     "elapsed": 3221,
     "status": "ok",
     "timestamp": 1679925052507,
     "user": {
      "displayName": "JULIO MARCOS MONZON BALDETTI",
      "userId": "13304646209288137935"
     },
     "user_tz": 360
    },
    "id": "31eb4923"
   },
   "outputs": [],
   "source": [
    "muestras = np.zeros(5000000, dtype = 'int8')\n",
    "\n",
    "f = open(\"data_1bit.txt\", \"r\")\n",
    "cadena = f.read()\n",
    "\n",
    "temp = ''\n",
    "contador = 0\n",
    "\n",
    "for a in cadena:\n",
    "    if a != \",\":\n",
    "        temp += a\n",
    "    else:\n",
    "        muestras[contador] = int(temp)\n",
    "        temp = ''\n",
    "        contador += 1"
   ]
  },
  {
   "cell_type": "markdown",
   "id": "76df12ce",
   "metadata": {
    "id": "76df12ce"
   },
   "source": [
    "Se construye histograma de probabilidad de la secuencia de números aleatorios"
   ]
  },
  {
   "cell_type": "code",
   "execution_count": null,
   "id": "c18aef4f",
   "metadata": {
    "colab": {
     "base_uri": "https://localhost:8080/",
     "height": 388
    },
    "executionInfo": {
     "elapsed": 1703,
     "status": "ok",
     "timestamp": 1679925058311,
     "user": {
      "displayName": "JULIO MARCOS MONZON BALDETTI",
      "userId": "13304646209288137935"
     },
     "user_tz": 360
    },
    "id": "c18aef4f",
    "outputId": "dcd67aa9-f6d2-44e4-ac1c-d872008b2aa2"
   },
   "outputs": [],
   "source": [
    "probabilidades = np.zeros(2)\n",
    "\n",
    "for i in range(0, len(probabilidades)):\n",
    "    prob = np.count_nonzero(muestras == i)/len(muestras)\n",
    "    probabilidades[i] = prob\n",
    "\n",
    "nums_1bit = [0,1]\n",
    "\n",
    "plt.bar(nums_1bit, probabilidades, color = 'blue')\n",
    "plt.axhline(0.5, color = 'red', label = 'y = ' + str(0.5))\n",
    "plt.xlabel('Número de 1 bit')\n",
    "plt.ylabel('Probabilidad')\n",
    "plt.legend()\n",
    "plt.show()"
   ]
  },
  {
   "cell_type": "markdown",
   "id": "e152ae10",
   "metadata": {
    "id": "e152ae10"
   },
   "source": [
    "# Conjuntos de ML\n",
    "Se construyen los conjuntos de entrenamiento y prueba o test. Como input, se utilizan secuencias cuya longitud es dada por la variable \"longitud_input\". Dichas secuencias se codifican con vectores one-hot. Por otro lado, el corrimiento es dado por \"Salto\". La variable \"porcentaje\" determina qué fracción de la muestra será para entrenar y cuanto se utilizará para el test final."
   ]
  },
  {
   "cell_type": "code",
   "execution_count": null,
   "id": "5ec637c7",
   "metadata": {
    "colab": {
     "base_uri": "https://localhost:8080/"
    },
    "executionInfo": {
     "elapsed": 33777,
     "status": "ok",
     "timestamp": 1679930840118,
     "user": {
      "displayName": "JULIO MARCOS MONZON BALDETTI",
      "userId": "13304646209288137935"
     },
     "user_tz": 360
    },
    "id": "5ec637c7",
    "outputId": "ec3d4efc-95ce-480a-e954-3ac2629c4f2f"
   },
   "outputs": [],
   "source": [
    "longitud_input = 15\n",
    "Salto = 1\n",
    "porcentaje = 0.5\n",
    "\n",
    "longitud_entrenamiento = int(porcentaje * largo_generacion  * 8 / Salto)\n",
    "longitud_test = int((1 - porcentaje) * largo_generacion * 8 / Salto - (longitud_input + 1))\n",
    "\n",
    "inputs_entrenamiento = np.zeros((longitud_entrenamiento, longitud_input, 2), dtype = 'int8')\n",
    "outputs_entrenamiento = np.zeros((longitud_entrenamiento), dtype = 'int8')\n",
    "\n",
    "inputs_test = np.zeros((longitud_test, longitud_input, 2), dtype = 'int8')\n",
    "outputs_test = np.zeros((longitud_test), dtype = 'int8')\n",
    "\n",
    "for i in range(0,longitud_entrenamiento):\n",
    "    for j in range(0, longitud_input):\n",
    "        inputs_entrenamiento[i,j,muestras[i * Salto + j]] = 1\n",
    "        \n",
    "    outputs_entrenamiento[i] = muestras[i*Salto + longitud_input]\n",
    "    \n",
    "for i in range(longitud_entrenamiento,longitud_entrenamiento + longitud_test):\n",
    "    for j in range(0, longitud_input):\n",
    "        inputs_test[i - longitud_entrenamiento,j,muestras[i * Salto + j]] = 1\n",
    "    \n",
    "    outputs_test[i - longitud_entrenamiento] = muestras[i*Salto + longitud_input]\n",
    "    \n",
    "print(inputs_entrenamiento.shape)\n",
    "print(outputs_entrenamiento.shape)\n",
    "print(inputs_test.shape)\n",
    "print(outputs_test.shape)"
   ]
  },
  {
   "cell_type": "markdown",
   "id": "605fa92b",
   "metadata": {
    "id": "605fa92b"
   },
   "source": [
    "# Modelo de red recurrente con LSTM\n",
    "Se construye el modelo de red con keras."
   ]
  },
  {
   "cell_type": "code",
   "execution_count": null,
   "id": "877ac218",
   "metadata": {
    "colab": {
     "base_uri": "https://localhost:8080/"
    },
    "executionInfo": {
     "elapsed": 488,
     "status": "ok",
     "timestamp": 1679930844820,
     "user": {
      "displayName": "JULIO MARCOS MONZON BALDETTI",
      "userId": "13304646209288137935"
     },
     "user_tz": 360
    },
    "id": "877ac218",
    "outputId": "7a7aa961-67ae-4304-cfbe-5cf2fdceb881"
   },
   "outputs": [],
   "source": [
    "input_data_shape = (longitud_input, 2)\n",
    "activacion_lstm = 'relu'\n",
    "activacion_oculta = 'relu'\n",
    "activacion_output = 'sigmoid'\n",
    "\n",
    "lstm = Sequential()\n",
    "\n",
    "lstm.add(LSTM(units = 64, input_shape = input_data_shape, activation = activacion_lstm,\n",
    "              return_sequences = False, name = 'capa_lstm'))\n",
    "lstm.add(BatchNormalization())\n",
    "lstm.add(Dense(units = 64, activation = activacion_oculta, name = 'capa_oculta'))\n",
    "lstm.add(BatchNormalization())\n",
    "lstm.add(Dense(units = 1, activation = activacion_output, name = 'capa_output'))\n",
    "\n",
    "lstm.summary()"
   ]
  },
  {
   "cell_type": "markdown",
   "id": "2fea2025",
   "metadata": {
    "id": "2fea2025"
   },
   "source": [
    "# Entrenamiento\n",
    "Se entrena el modelo de machine learning con el conjunto de entrenamiento. Algunos hiperparámetros como la tasa de entrenamiento y el número de epochs se establecen al principio de la celda. La función de costo es \"binary_crossentropy\", pues se trata de un problema de clasificación binaria. Adicionalmente, se utiliza un 10% de la data de entrenamiento como data de validación.\n",
    "\n",
    "Cabe mencionar que se aplica un EarlyStopping, el cual detiene el entrenamiento cuando el costo de validación no mejora en 10 epochs consecutivos. Al final del entrenamiento, se guarda la red con los parámetros que minimizaron el costo de validación."
   ]
  },
  {
   "cell_type": "code",
   "execution_count": null,
   "id": "e7190cad",
   "metadata": {
    "colab": {
     "base_uri": "https://localhost:8080/"
    },
    "executionInfo": {
     "elapsed": 1632131,
     "status": "ok",
     "timestamp": 1679932485721,
     "user": {
      "displayName": "JULIO MARCOS MONZON BALDETTI",
      "userId": "13304646209288137935"
     },
     "user_tz": 360
    },
    "id": "e7190cad",
    "outputId": "a745e0cb-101d-494f-8886-4af24edbd48d"
   },
   "outputs": [],
   "source": [
    "tasa_entrenamiento = 0.0005\n",
    "numero_epochs = 50\n",
    "tamanio_minilote = 1024\n",
    "\n",
    "optimizador = Adam(learning_rate = tasa_entrenamiento)\n",
    "funcion_costo = 'binary_crossentropy'\n",
    "metrica = ['accuracy']\n",
    "callback = EarlyStopping(monitor = 'val_loss', patience = 10, restore_best_weights=True)\n",
    "\n",
    "lstm.compile(optimizer = optimizador, loss = funcion_costo, metrics = metrica)\n",
    "entrenamiento = lstm.fit(inputs_entrenamiento, outputs_entrenamiento, batch_size = tamanio_minilote,\n",
    "                        callbacks = [callback], validation_split= 0.1, epochs = numero_epochs)"
   ]
  },
  {
   "cell_type": "markdown",
   "id": "bf9a7bf1",
   "metadata": {
    "id": "bf9a7bf1"
   },
   "source": [
    "# Gráficas\n",
    "Se observa la evolución de la red a través de gráficas de costo y precisión tanto sobre el conjunto de entrenamiento como el conjunto de validación."
   ]
  },
  {
   "cell_type": "code",
   "execution_count": null,
   "id": "4413705e",
   "metadata": {
    "colab": {
     "base_uri": "https://localhost:8080/",
     "height": 759
    },
    "executionInfo": {
     "elapsed": 2117,
     "status": "ok",
     "timestamp": 1679932647048,
     "user": {
      "displayName": "JULIO MARCOS MONZON BALDETTI",
      "userId": "13304646209288137935"
     },
     "user_tz": 360
    },
    "id": "4413705e",
    "outputId": "51320ced-e8f4-400e-9fce-c80e0cc47c1b"
   },
   "outputs": [],
   "source": [
    "plt.plot(entrenamiento.history['accuracy'], label = 'Entrenamiento')\n",
    "plt.plot(entrenamiento.history['val_accuracy'], label = 'Validación')\n",
    "plt.axhline(0.5, color = 'red', label = 'P. Adivinar')\n",
    "plt.ylabel('Precisión')\n",
    "plt.xlabel('Epoch')\n",
    "plt.grid()\n",
    "plt.legend()\n",
    "plt.show()\n",
    "\n",
    "plt.plot(entrenamiento.history['loss'], label = 'Entrenamiento')\n",
    "plt.plot(entrenamiento.history['val_loss'], label = 'Validación')\n",
    "plt.ylabel('Costo')\n",
    "plt.xlabel('Epoch')\n",
    "plt.grid()\n",
    "plt.legend()\n",
    "plt.show()"
   ]
  },
  {
   "cell_type": "markdown",
   "id": "718e6771",
   "metadata": {
    "id": "718e6771"
   },
   "source": [
    "# Evaluación\n",
    "Se evalúa la red mediante el conjunto de prueba o test para observar si el modelo pudo generalizarse."
   ]
  },
  {
   "cell_type": "code",
   "execution_count": null,
   "id": "5ace9ebc",
   "metadata": {
    "colab": {
     "base_uri": "https://localhost:8080/"
    },
    "executionInfo": {
     "elapsed": 348188,
     "status": "ok",
     "timestamp": 1679933005703,
     "user": {
      "displayName": "JULIO MARCOS MONZON BALDETTI",
      "userId": "13304646209288137935"
     },
     "user_tz": 360
    },
    "id": "5ace9ebc",
    "outputId": "25c8a021-39ae-4175-8788-9a713f366612"
   },
   "outputs": [],
   "source": [
    "costo_test, precision_test = lstm.evaluate(inputs_test, outputs_test)\n",
    "\n",
    "print(\"El costo sobre el conjunto de prueba es: \" + str(costo_test))\n",
    "print(\"La precisión sobre el conjunto de prueba es: \" + str(precision_test))"
   ]
  }
 ],
 "metadata": {
  "accelerator": "GPU",
  "colab": {
   "provenance": []
  },
  "gpuClass": "standard",
  "kernelspec": {
   "display_name": "Python 3 (ipykernel)",
   "language": "python",
   "name": "python3"
  },
  "language_info": {
   "codemirror_mode": {
    "name": "ipython",
    "version": 3
   },
   "file_extension": ".py",
   "mimetype": "text/x-python",
   "name": "python",
   "nbconvert_exporter": "python",
   "pygments_lexer": "ipython3",
   "version": "3.9.13"
  }
 },
 "nbformat": 4,
 "nbformat_minor": 5
}
