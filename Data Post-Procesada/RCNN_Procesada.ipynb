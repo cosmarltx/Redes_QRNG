{
 "cells": [
  {
   "cell_type": "markdown",
   "id": "6c240acf",
   "metadata": {
    "id": "6c240acf"
   },
   "source": [
    "# Librerías"
   ]
  },
  {
   "cell_type": "code",
   "execution_count": null,
   "id": "7371b45c",
   "metadata": {
    "executionInfo": {
     "elapsed": 2644,
     "status": "ok",
     "timestamp": 1682542250247,
     "user": {
      "displayName": "JULIO MARCOS MONZON BALDETTI",
      "userId": "13304646209288137935"
     },
     "user_tz": 360
    },
    "id": "7371b45c"
   },
   "outputs": [],
   "source": [
    "import matplotlib.pyplot as plt\n",
    "import numpy as np\n",
    "\n",
    "import tensorflow as tf\n",
    "from keras.models import Sequential\n",
    "from keras.layers import Flatten,Dense,Dropout,BatchNormalization,LSTM,Conv1D,MaxPool1D\n",
    "from keras.optimizers import Adam\n",
    "from keras.regularizers import l2\n",
    "from keras.callbacks import EarlyStopping\n",
    "\n",
    "plt.rcParams['figure.figsize'] = [8, 6] "
   ]
  },
  {
   "cell_type": "code",
   "execution_count": null,
   "id": "43a6e712",
   "metadata": {
    "executionInfo": {
     "elapsed": 209,
     "status": "ok",
     "timestamp": 1682542297299,
     "user": {
      "displayName": "JULIO MARCOS MONZON BALDETTI",
      "userId": "13304646209288137935"
     },
     "user_tz": 360
    },
    "id": "43a6e712"
   },
   "outputs": [],
   "source": [
    "largo_generacion = 625000 #Valor en bytes, en bits multiplicar por 8"
   ]
  },
  {
   "cell_type": "markdown",
   "id": "07e95940",
   "metadata": {
    "id": "07e95940"
   },
   "source": [
    "# Data post procesada\n",
    "Se crea el arreglo de muestras partiendo del archivo data_1bit.txt que contiene 5000000 de datos post procesados del QRNG en formato binario."
   ]
  },
  {
   "cell_type": "code",
   "execution_count": null,
   "id": "f0d1570b",
   "metadata": {
    "executionInfo": {
     "elapsed": 3842,
     "status": "ok",
     "timestamp": 1682542302930,
     "user": {
      "displayName": "JULIO MARCOS MONZON BALDETTI",
      "userId": "13304646209288137935"
     },
     "user_tz": 360
    },
    "id": "f0d1570b"
   },
   "outputs": [],
   "source": [
    "muestras = np.zeros(5000000, dtype = 'int8')\n",
    "\n",
    "f = open(\"data_1bit.txt\", \"r\")\n",
    "cadena = f.read()\n",
    "\n",
    "temp = ''\n",
    "contador = 0\n",
    "\n",
    "for a in cadena:\n",
    "    if a != \",\":\n",
    "        temp += a\n",
    "    else:\n",
    "        muestras[contador] = int(temp)\n",
    "        temp = ''\n",
    "        contador += 1"
   ]
  },
  {
   "cell_type": "markdown",
   "id": "76df12ce",
   "metadata": {
    "id": "76df12ce"
   },
   "source": [
    "Se construye histograma de probabilidad de la secuencia de números aleatorios"
   ]
  },
  {
   "cell_type": "code",
   "execution_count": null,
   "id": "c18aef4f",
   "metadata": {
    "colab": {
     "base_uri": "https://localhost:8080/",
     "height": 542
    },
    "executionInfo": {
     "elapsed": 269,
     "status": "ok",
     "timestamp": 1682542305464,
     "user": {
      "displayName": "JULIO MARCOS MONZON BALDETTI",
      "userId": "13304646209288137935"
     },
     "user_tz": 360
    },
    "id": "c18aef4f",
    "outputId": "47586b09-fc29-4e9e-ddfd-750ed302a0b8"
   },
   "outputs": [],
   "source": [
    "probabilidades = np.zeros(2)\n",
    "\n",
    "for i in range(0, len(probabilidades)):\n",
    "    prob = np.count_nonzero(muestras == i)/len(muestras)\n",
    "    probabilidades[i] = prob\n",
    "\n",
    "nums_1bit = [0,1]\n",
    "\n",
    "plt.bar(nums_1bit, probabilidades, color = 'blue')\n",
    "plt.axhline(0.5, color = 'red', label = 'y = ' + str(0.5))\n",
    "plt.xlabel('Número de 1 bit')\n",
    "plt.ylabel('Probabilidad')\n",
    "plt.legend()\n",
    "plt.show()"
   ]
  },
  {
   "cell_type": "markdown",
   "id": "e152ae10",
   "metadata": {
    "id": "e152ae10"
   },
   "source": [
    "# Conjuntos de ML\n",
    "Se construyen los conjuntos de entrenamiento y prueba o test. Como input, se utilizan secuencias cuya longitud es dada por la variable \"longitud_input\". Dichas secuencias se codifican con vectores one-hot. Por otro lado, el corrimiento es dado por \"Salto\". La variable \"porcentaje\" determina qué fracción de la muestra será para entrenar y cuanto se utilizará para el test final."
   ]
  },
  {
   "cell_type": "code",
   "execution_count": null,
   "id": "5ec637c7",
   "metadata": {
    "colab": {
     "base_uri": "https://localhost:8080/"
    },
    "executionInfo": {
     "elapsed": 58673,
     "status": "ok",
     "timestamp": 1682542369045,
     "user": {
      "displayName": "JULIO MARCOS MONZON BALDETTI",
      "userId": "13304646209288137935"
     },
     "user_tz": 360
    },
    "id": "5ec637c7",
    "outputId": "8dd1da3b-2704-4749-85e5-58be2c747efe"
   },
   "outputs": [],
   "source": [
    "longitud_input = 25\n",
    "Salto = 1\n",
    "porcentaje = 0.5\n",
    "\n",
    "longitud_entrenamiento = int(porcentaje * largo_generacion  * 8 / Salto)\n",
    "longitud_test = int((1 - porcentaje) * largo_generacion * 8 / Salto - (longitud_input + 1))\n",
    "\n",
    "inputs_entrenamiento = np.zeros((longitud_entrenamiento, longitud_input, 2), dtype = 'int8')\n",
    "outputs_entrenamiento = np.zeros((longitud_entrenamiento), dtype = 'int8')\n",
    "\n",
    "inputs_test = np.zeros((longitud_test, longitud_input, 2), dtype = 'int8')\n",
    "outputs_test = np.zeros((longitud_test), dtype = 'int8')\n",
    "\n",
    "for i in range(0,longitud_entrenamiento):\n",
    "    for j in range(0, longitud_input):\n",
    "        inputs_entrenamiento[i,j,muestras[i * Salto + j]] = 1\n",
    "    \n",
    "    outputs_entrenamiento[i] = muestras[i*Salto + longitud_input]\n",
    "    \n",
    "for i in range(longitud_entrenamiento,longitud_entrenamiento + longitud_test):\n",
    "    for j in range(0, longitud_input):\n",
    "        inputs_test[i - longitud_entrenamiento,j,muestras[i * Salto + j]] = 1\n",
    "    \n",
    "    outputs_test[i - longitud_entrenamiento] = muestras[i*Salto + longitud_input]\n",
    "    \n",
    "print(inputs_entrenamiento.shape)\n",
    "print(outputs_entrenamiento.shape)\n",
    "print(inputs_test.shape)\n",
    "print(outputs_test.shape)"
   ]
  },
  {
   "cell_type": "markdown",
   "id": "605fa92b",
   "metadata": {
    "id": "605fa92b"
   },
   "source": [
    "# Modelo de red recurrente convolucional (RCNN)\n",
    "Se construye el modelo de red con keras."
   ]
  },
  {
   "cell_type": "code",
   "execution_count": null,
   "id": "877ac218",
   "metadata": {
    "colab": {
     "base_uri": "https://localhost:8080/"
    },
    "executionInfo": {
     "elapsed": 4277,
     "status": "ok",
     "timestamp": 1682542378351,
     "user": {
      "displayName": "JULIO MARCOS MONZON BALDETTI",
      "userId": "13304646209288137935"
     },
     "user_tz": 360
    },
    "id": "877ac218",
    "outputId": "be0e789b-5853-49d5-e604-88bd9b8ff446"
   },
   "outputs": [],
   "source": [
    "input_data_shape = (longitud_input, 2)\n",
    "activacion_conv = 'relu'\n",
    "activacion_lstm = 'tanh'\n",
    "activacion_oculta = 'relu'\n",
    "activacion_output = 'sigmoid'\n",
    "\n",
    "RCNN = Sequential()\n",
    "\n",
    "RCNN.add(Conv1D(input_shape = input_data_shape, filters = 32, kernel_size = 5, activation = activacion_conv,\n",
    "                padding = 'same', name = 'capa_conv'))\n",
    "RCNN.add(MaxPool1D(pool_size = 2, name = 'capa_pooling'))\n",
    "RCNN.add(BatchNormalization())\n",
    "RCNN.add(LSTM(units = 64, activation = activacion_lstm, return_sequences = False, name = 'capa_LSTM'))\n",
    "RCNN.add(BatchNormalization())\n",
    "RCNN.add(Dropout(0.1))\n",
    "RCNN.add(Dense(units = 32, activation = activacion_oculta, name = 'capa_oculta'))\n",
    "RCNN.add(BatchNormalization())\n",
    "RCNN.add(Dense(1, activation = activacion_output, name = 'capa_outputs'))\n",
    "\n",
    "RCNN.summary()"
   ]
  },
  {
   "cell_type": "markdown",
   "id": "2fea2025",
   "metadata": {
    "id": "2fea2025"
   },
   "source": [
    "# Entrenamiento\n",
    "Se entrena el modelo de machine learning con el conjunto de entrenamiento. Algunos hiperparámetros como la tasa de entrenamiento y el número de epochs se establecen al principio de la celda. La función de costo es \"binary_crossentropy\", pues se trata de un problema de clasificación binaria. Adicionalmente, se utiliza un 10% de la data de entrenamiento como data de validación.\n",
    "\n",
    "Cabe mencionar que se aplica un EarlyStopping, el cual detiene el entrenamiento cuando el costo de validación no mejora en 10 epochs consecutivos. Al final del entrenamiento, se guarda la red con los parámetros que minimizaron el costo de validación."
   ]
  },
  {
   "cell_type": "code",
   "execution_count": null,
   "id": "e7190cad",
   "metadata": {
    "colab": {
     "base_uri": "https://localhost:8080/"
    },
    "executionInfo": {
     "elapsed": 281711,
     "status": "ok",
     "timestamp": 1682542663609,
     "user": {
      "displayName": "JULIO MARCOS MONZON BALDETTI",
      "userId": "13304646209288137935"
     },
     "user_tz": 360
    },
    "id": "e7190cad",
    "outputId": "1d3664f8-ff43-48aa-80eb-a9ab2fa19efb"
   },
   "outputs": [],
   "source": [
    "tasa_entrenamiento = 0.0005\n",
    "numero_epochs = 50\n",
    "tamanio_minilote = 1024\n",
    "\n",
    "optimizador = Adam(learning_rate = tasa_entrenamiento)\n",
    "funcion_costo = 'binary_crossentropy'\n",
    "metrica = ['accuracy']\n",
    "callback = EarlyStopping(monitor = 'val_loss', patience = 10, restore_best_weights=True)\n",
    "\n",
    "RCNN.compile(optimizer = optimizador, loss = funcion_costo, metrics = metrica)\n",
    "entrenamiento = RCNN.fit(inputs_entrenamiento, outputs_entrenamiento, batch_size = tamanio_minilote,\n",
    "                        callbacks = [callback], validation_split= 0.1, epochs = numero_epochs)"
   ]
  },
  {
   "cell_type": "markdown",
   "id": "bf9a7bf1",
   "metadata": {
    "id": "bf9a7bf1"
   },
   "source": [
    "# Gráficas\n",
    "Se observa la evolución de la red a través de gráficas de costo y precisión tanto sobre el conjunto de entrenamiento como el conjunto de validación."
   ]
  },
  {
   "cell_type": "code",
   "execution_count": null,
   "id": "4413705e",
   "metadata": {
    "colab": {
     "base_uri": "https://localhost:8080/",
     "height": 1000
    },
    "executionInfo": {
     "elapsed": 659,
     "status": "ok",
     "timestamp": 1682542664265,
     "user": {
      "displayName": "JULIO MARCOS MONZON BALDETTI",
      "userId": "13304646209288137935"
     },
     "user_tz": 360
    },
    "id": "4413705e",
    "outputId": "eb6e7713-318f-41f8-ffa4-03693e2ece12"
   },
   "outputs": [],
   "source": [
    "plt.plot(entrenamiento.history['accuracy'], label = 'Entrenamiento')\n",
    "plt.plot(entrenamiento.history['val_accuracy'], label = 'Validación')\n",
    "plt.axhline(0.5, color = 'red', label = 'P. Adivinar')\n",
    "plt.ylabel('Precisión')\n",
    "plt.xlabel('Epoch')\n",
    "plt.grid()\n",
    "plt.legend()\n",
    "plt.show()\n",
    "\n",
    "plt.plot(entrenamiento.history['loss'], label = 'Entrenamiento')\n",
    "plt.plot(entrenamiento.history['val_loss'], label = 'Validación')\n",
    "plt.ylabel('Costo')\n",
    "plt.xlabel('Epoch')\n",
    "plt.grid()\n",
    "plt.legend()\n",
    "plt.show()"
   ]
  },
  {
   "cell_type": "markdown",
   "id": "718e6771",
   "metadata": {
    "id": "718e6771"
   },
   "source": [
    "# Evaluación\n",
    "Se evalúa la red mediante el conjunto de prueba o test para observar si el modelo pudo generalizarse."
   ]
  },
  {
   "cell_type": "code",
   "execution_count": null,
   "id": "5ace9ebc",
   "metadata": {
    "id": "5ace9ebc"
   },
   "outputs": [],
   "source": [
    "costo_test, precision_test = RCNN.evaluate(inputs_test, outputs_test)\n",
    "\n",
    "print(\"El costo sobre el conjunto de prueba es: \" + str(costo_test))\n",
    "print(\"La precisión sobre el conjunto de prueba es: \" + str(precision_test))"
   ]
  },
  {
   "cell_type": "markdown",
   "id": "YP_viBb16ZtF",
   "metadata": {
    "id": "YP_viBb16ZtF"
   },
   "source": [
    "# Prueba estadística\n",
    "A continuación se preparan los datos necesarios para la prueba estadística. Primero se construye el arreglo mtp de datos post-procesados que serán sometidos a los métodos de predicción A y B. El método A es la red neuronal, mientras que el método B consiste en adivinar."
   ]
  },
  {
   "cell_type": "code",
   "execution_count": null,
   "id": "j9z_vV1r6h1z",
   "metadata": {
    "executionInfo": {
     "elapsed": 1281,
     "status": "ok",
     "timestamp": 1682542665542,
     "user": {
      "displayName": "JULIO MARCOS MONZON BALDETTI",
      "userId": "13304646209288137935"
     },
     "user_tz": 360
    },
    "id": "j9z_vV1r6h1z"
   },
   "outputs": [],
   "source": [
    "mtp = np.zeros(2500000, dtype = 'int8')\n",
    "\n",
    "f = open(\"prueba_estadistica_pp.txt\", \"r\")\n",
    "cadena = f.read()\n",
    "\n",
    "temp = ''\n",
    "contador = 0\n",
    "\n",
    "for a in cadena:\n",
    "    if a != \",\":\n",
    "        temp += a\n",
    "    else:\n",
    "        mtp[contador] = int(temp)\n",
    "        temp = ''\n",
    "        contador += 1"
   ]
  },
  {
   "cell_type": "markdown",
   "id": "VeIQQrPh6iTT",
   "metadata": {
    "id": "VeIQQrPh6iTT"
   },
   "source": [
    "A partir de mtp se crean 500 subconjuntos. Todos cuentan con 4000 muestras. Se observa cuantos aciertos se logran en cada subconjunto empleando los métodos A y B descritos anteriormente. Por lo tanto, al terminar se tendrán 500 datos emparejados sobre el desempeño de los métodos."
   ]
  },
  {
   "cell_type": "code",
   "execution_count": null,
   "id": "AG6ZFfn_6qkI",
   "metadata": {
    "colab": {
     "base_uri": "https://localhost:8080/"
    },
    "executionInfo": {
     "elapsed": 289344,
     "status": "ok",
     "timestamp": 1682542954882,
     "user": {
      "displayName": "JULIO MARCOS MONZON BALDETTI",
      "userId": "13304646209288137935"
     },
     "user_tz": 360
    },
    "id": "AG6ZFfn_6qkI",
    "outputId": "631491c2-e5b2-44e5-a633-0d717d40b3ed"
   },
   "outputs": [],
   "source": [
    "import random as rd\n",
    "from tqdm import tqdm\n",
    "\n",
    "tamanio_subconjunto = 4000\n",
    "numero_subconjuntos = 500\n",
    "\n",
    "muestra_A = np.zeros(numero_subconjuntos)\n",
    "muestra_B = np.zeros(numero_subconjuntos)\n",
    "\n",
    "longitud_input = 25\n",
    "\n",
    "for i in tqdm(range(0, numero_subconjuntos)):\n",
    "    inputs_estadistico = np.zeros((tamanio_subconjunto, longitud_input, 2), dtype = 'int8')\n",
    "    outputs_estadistico = np.zeros((tamanio_subconjunto), dtype = 'int8')\n",
    "    \n",
    "    for j in range(0,tamanio_subconjunto):\n",
    "        for m in range(0, longitud_input):\n",
    "            inputs_estadistico[j,m,mtp[j + i * tamanio_subconjunto + m]] = 1\n",
    "\n",
    "        outputs_estadistico[j] = mtp[j + i * tamanio_subconjunto + longitud_input]\n",
    "     \n",
    "    #prueba red neuronal\n",
    "    costo_estadistico, precision_estadistico = RCNN.evaluate(inputs_estadistico, outputs_estadistico, verbose = 0)\n",
    "    aciertos_mA = round(precision_estadistico * tamanio_subconjunto)\n",
    "    \n",
    "    #prueba adivinar aleatoriamente\n",
    "    aciertos_mB = 0\n",
    "    for k in range(0,tamanio_subconjunto):\n",
    "        guess = rd.randint(0,1)\n",
    "        \n",
    "        if guess == outputs_estadistico[k]:\n",
    "            aciertos_mB += 1\n",
    "    \n",
    "    muestra_A[i] = aciertos_mA\n",
    "    muestra_B[i] = aciertos_mB"
   ]
  },
  {
   "cell_type": "markdown",
   "id": "K4ma6w2W6uVi",
   "metadata": {
    "id": "K4ma6w2W6uVi"
   },
   "source": [
    "Finalmente, los datos emparejados se exportan a Excel donde se realiza la prueba estadística"
   ]
  },
  {
   "cell_type": "code",
   "execution_count": null,
   "id": "qdu96aTp6w-8",
   "metadata": {
    "colab": {
     "base_uri": "https://localhost:8080/"
    },
    "executionInfo": {
     "elapsed": 543,
     "status": "ok",
     "timestamp": 1682543016911,
     "user": {
      "displayName": "JULIO MARCOS MONZON BALDETTI",
      "userId": "13304646209288137935"
     },
     "user_tz": 360
    },
    "id": "qdu96aTp6w-8",
    "outputId": "507d2c9f-3a7f-449f-d3fe-ae5be9f55818"
   },
   "outputs": [],
   "source": [
    "import pandas as pd\n",
    "import openpyxl\n",
    "\n",
    "df = pd.DataFrame(list(zip(muestra_A, muestra_B)), columns=['Aciertos NN', 'Aciertos Adivinando'])\n",
    "print(df)\n",
    "\n",
    "df.to_excel('prueba_estadistica_RCNN_pp.xlsx', sheet_name='RCNN')"
   ]
  }
 ],
 "metadata": {
  "accelerator": "GPU",
  "colab": {
   "gpuType": "T4",
   "provenance": []
  },
  "gpuClass": "standard",
  "kernelspec": {
   "display_name": "Python 3 (ipykernel)",
   "language": "python",
   "name": "python3"
  },
  "language_info": {
   "codemirror_mode": {
    "name": "ipython",
    "version": 3
   },
   "file_extension": ".py",
   "mimetype": "text/x-python",
   "name": "python",
   "nbconvert_exporter": "python",
   "pygments_lexer": "ipython3",
   "version": "3.9.13"
  }
 },
 "nbformat": 4,
 "nbformat_minor": 5
}
