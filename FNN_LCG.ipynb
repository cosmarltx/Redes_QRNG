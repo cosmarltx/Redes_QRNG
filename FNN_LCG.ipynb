{
 "cells": [
  {
   "cell_type": "markdown",
   "id": "53a4ff4e",
   "metadata": {},
   "source": [
    "# Librerías"
   ]
  },
  {
   "cell_type": "code",
   "execution_count": null,
   "id": "998086c7",
   "metadata": {},
   "outputs": [],
   "source": [
    "import numpy as np\n",
    "import matplotlib.pyplot as plt\n",
    "import random as rd\n",
    "\n",
    "import tensorflow as tf\n",
    "from keras.models import Sequential\n",
    "from keras.layers import Flatten,Dense,Dropout,BatchNormalization\n",
    "from keras.optimizers import Adam\n",
    "from keras.regularizers import l2\n",
    "from keras.callbacks import EarlyStopping\n",
    "\n",
    "plt.rcParams['figure.figsize'] = [8, 6] "
   ]
  },
  {
   "cell_type": "markdown",
   "id": "82058720",
   "metadata": {},
   "source": [
    "# LCG de 8 bits\n",
    "Se define la función \"LCG\" que devuelve una secuencia de números pseudoaleatorios de 8 bits de acuerdo a la fórmula recursiva\n",
    "\n",
    "$X_{n+1} = \\left(aX_n + c\\right)\\text{mod}\\;\\mathcal{M}$ \n",
    "\n",
    "Donde $a$, $c$ y $\\mathcal{M}$ son el multiplicador, incremento y periodo del generador, respectivamente. \n",
    "En este caso, se hace $\\mathcal{M} = 2^{\\text{potencia}}$, donde \"potencia\" es una variable utilizada para definir el periodo del generador."
   ]
  },
  {
   "cell_type": "code",
   "execution_count": null,
   "id": "a6f04f04",
   "metadata": {},
   "outputs": [],
   "source": [
    "bits = 8\n",
    "potencia = 20\n",
    "\n",
    "def LCG(seed,longitud):\n",
    "    numeros_generados = np.zeros(longitud, dtype = 'int16')\n",
    "\n",
    "    a = 25214903917\n",
    "    c = 1\n",
    "    M = 2 ** potencia\n",
    "    \n",
    "    xi = seed\n",
    "    xf = 0\n",
    "\n",
    "    numeros_generados[0] = int(((seed%M)/M) * (2 ** bits))\n",
    "\n",
    "    for i in range(1,longitud):\n",
    "        xf = (a*xi + c)%M\n",
    "        xi = xf\n",
    "  \n",
    "        numeros_generados[i] = int((xf/M) * (2 ** bits))\n",
    "\n",
    "    return numeros_generados"
   ]
  },
  {
   "cell_type": "markdown",
   "id": "0386fea2",
   "metadata": {},
   "source": [
    "Se crea el arreglo \"muestras\" que será utilizado para construir los conjuntos de machine learning. La semilla se elige aleatoriamente. La secuencia pseudoaleatoria tiene como longitud el periodo del generador."
   ]
  },
  {
   "cell_type": "code",
   "execution_count": null,
   "id": "1856ef23",
   "metadata": {},
   "outputs": [],
   "source": [
    "muestras = LCG(seed = rd.randint(1,1000), longitud = 2 ** potencia)\n",
    "prob_adivinar = 1/(2 ** bits)\n",
    "\n",
    "n, bins, patches = plt.hist(muestras, bins = 2 ** bits, density = 1, color = 'green')\n",
    "plt.axhline(prob_adivinar, color = 'red', label = 'y = ' + str(prob_adivinar))\n",
    "plt.xlabel('Número de 8 bits')\n",
    "plt.ylabel('Probabilidad')\n",
    "plt.legend()\n",
    "plt.grid()\n",
    "plt.show()"
   ]
  },
  {
   "cell_type": "markdown",
   "id": "1c9d6834",
   "metadata": {},
   "source": [
    "# Conjuntos de ML\n",
    "Se construyen los conjuntos de entrenamiento y prueba o test. Como input, se utilizan secuencias cuya longitud es dada por la variable \"longitud_input\". Por otro lado, \"porcentaje\" determina qué fracción de la muestra será para entrenar y cuanto se utilizará para el test final."
   ]
  },
  {
   "cell_type": "code",
   "execution_count": null,
   "id": "43a594ce",
   "metadata": {},
   "outputs": [],
   "source": [
    "longitud_input = 13\n",
    "porcentaje = 0.8\n",
    "\n",
    "longitud_entrenamiento = int(porcentaje * 2 ** potencia)\n",
    "longitud_test = int((1 - porcentaje) * 2 ** potencia - (longitud_input + 1))\n",
    "\n",
    "inputs_entrenamiento = np.zeros((longitud_entrenamiento, longitud_input), dtype = 'int16')\n",
    "outputs_entrenamiento = np.zeros((longitud_entrenamiento, 2 ** bits), dtype = 'int8')\n",
    "\n",
    "inputs_test = np.zeros((longitud_test, longitud_input), dtype = 'int16')\n",
    "outputs_test = np.zeros((longitud_test, 2 ** bits), dtype = 'int8')\n",
    "\n",
    "for i in range(0, longitud_entrenamiento):\n",
    "    inputs_entrenamiento[i] = muestras[i:i + longitud_input]\n",
    "    outputs_entrenamiento[i, muestras[i + longitud_input]] = 1\n",
    "    \n",
    "for i in range(longitud_entrenamiento, longitud_entrenamiento + longitud_test):\n",
    "    inputs_test[i - longitud_entrenamiento] = muestras[i:i + longitud_input]\n",
    "    outputs_test[i - longitud_entrenamiento, muestras[i + longitud_input]] = 1\n",
    "    \n",
    "inputs_entrenamiento = inputs_entrenamiento/256.0\n",
    "inputs_test = inputs_test/256.0\n",
    "\n",
    "print(inputs_entrenamiento.shape)\n",
    "print(outputs_entrenamiento.shape)\n",
    "print(inputs_test.shape)\n",
    "print(outputs_test.shape)"
   ]
  },
  {
   "cell_type": "markdown",
   "id": "71ec196d",
   "metadata": {},
   "source": [
    "# Modelo de red prealimentada (FNN)\n",
    "Se construye el modelo de red con keras."
   ]
  },
  {
   "cell_type": "code",
   "execution_count": null,
   "id": "836f3c01",
   "metadata": {},
   "outputs": [],
   "source": [
    "input_data_shape = (longitud_input,)\n",
    "activacion_oculta = 'relu'\n",
    "activacion_output = 'softmax'\n",
    "\n",
    "FNN = Sequential()\n",
    "\n",
    "FNN.add(Flatten(input_shape = input_data_shape, name = 'capa_inputs'))\n",
    "FNN.add(Dense(units = 256, activation = activacion_oculta, name = 'capa_oculta_1'))\n",
    "FNN.add(BatchNormalization())\n",
    "FNN.add(Dense(units = 256, activation = activacion_oculta, name = 'capa_oculta_2'))\n",
    "FNN.add(BatchNormalization())\n",
    "FNN.add(Dense(units = 256, activation = activacion_output, name = 'capa_outputs'))\n",
    "\n",
    "FNN.summary()"
   ]
  },
  {
   "cell_type": "markdown",
   "id": "b07b11dd",
   "metadata": {},
   "source": [
    "# Entrenamiento\n",
    "Se entrena el modelo de machine learning con el conjunto de entrenamiento. Algunos hiperparámetros como la tasa de entrenamiento y el número de epochs se establecen al principio de la celda. La función de costo es \"categorical_crossentropy\". Adicionalmente, se utiliza un 10% de la data de entrenamiento como data de validación.\n",
    "\n",
    "Cabe mencionar que se aplica un EarlyStopping, el cual detiene el entrenamiento cuando el costo de validación no mejora en 10 epochs consecutivos. Al final del entrenamiento, se guarda la red con los parámetros que minimizaron el costo de validación."
   ]
  },
  {
   "cell_type": "code",
   "execution_count": null,
   "id": "212c3430",
   "metadata": {},
   "outputs": [],
   "source": [
    "tasa_entrenamiento = 0.001\n",
    "numero_epochs = 200\n",
    "tamanio_minilote = 1024\n",
    "\n",
    "optimizador = Adam(learning_rate = tasa_entrenamiento)\n",
    "funcion_costo = 'categorical_crossentropy'\n",
    "metrica = ['accuracy']\n",
    "callback = EarlyStopping(monitor = 'val_loss', patience = 10, restore_best_weights=True)\n",
    "\n",
    "FNN.compile(optimizer = optimizador, loss = funcion_costo, metrics = metrica)\n",
    "entrenamiento = FNN.fit(inputs_entrenamiento, outputs_entrenamiento, batch_size = tamanio_minilote,\n",
    "                        callbacks = [callback], validation_split= 0.1, epochs = numero_epochs)"
   ]
  },
  {
   "cell_type": "markdown",
   "id": "8eef0240",
   "metadata": {},
   "source": [
    "# Gráficas\n",
    "Se observa la evolución de la red a través de gráficas de costo y precisión tanto sobre el conjunto de entrenamiento como el conjunto de validación."
   ]
  },
  {
   "cell_type": "code",
   "execution_count": null,
   "id": "0bffea47",
   "metadata": {},
   "outputs": [],
   "source": [
    "plt.plot(entrenamiento.history['accuracy'], label = 'Entrenamiento')\n",
    "plt.plot(entrenamiento.history['val_accuracy'], label = 'Validación')\n",
    "plt.axhline(prob_adivinar, color = 'red', label = 'P. Adivinar')\n",
    "plt.ylabel('Precisión')\n",
    "plt.xlabel('Epoch')\n",
    "plt.grid()\n",
    "plt.legend()\n",
    "plt.show()\n",
    "\n",
    "plt.plot(entrenamiento.history['loss'], label = 'Entrenamiento')\n",
    "plt.plot(entrenamiento.history['val_loss'], label = 'Validación')\n",
    "plt.ylabel('Costo')\n",
    "plt.xlabel('Epoch')\n",
    "plt.grid()\n",
    "plt.legend()\n",
    "plt.show()"
   ]
  },
  {
   "cell_type": "markdown",
   "id": "a4c290ff",
   "metadata": {},
   "source": [
    "# Evaluación\n",
    "Se evalúa la red mediante el conjunto de prueba o test para observar si el modelo pudo generalizarse."
   ]
  },
  {
   "cell_type": "code",
   "execution_count": null,
   "id": "5f6fa653",
   "metadata": {},
   "outputs": [],
   "source": [
    "costo_test, precision_test = FNN.evaluate(inputs_test, outputs_test)\n",
    "\n",
    "print(\"El costo sobre el conjunto de prueba es: \" + str(costo_test))\n",
    "print(\"La precisión sobre el conjunto de prueba es: \" + str(precision_test))"
   ]
  }
 ],
 "metadata": {
  "kernelspec": {
   "display_name": "Python 3 (ipykernel)",
   "language": "python",
   "name": "python3"
  },
  "language_info": {
   "codemirror_mode": {
    "name": "ipython",
    "version": 3
   },
   "file_extension": ".py",
   "mimetype": "text/x-python",
   "name": "python",
   "nbconvert_exporter": "python",
   "pygments_lexer": "ipython3",
   "version": "3.9.13"
  }
 },
 "nbformat": 4,
 "nbformat_minor": 5
}
