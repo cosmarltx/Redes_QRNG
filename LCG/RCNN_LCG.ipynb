{
 "cells": [
  {
   "cell_type": "markdown",
   "id": "53a4ff4e",
   "metadata": {
    "id": "53a4ff4e"
   },
   "source": [
    "# Librerías"
   ]
  },
  {
   "cell_type": "code",
   "execution_count": null,
   "id": "998086c7",
   "metadata": {
    "executionInfo": {
     "elapsed": 368,
     "status": "ok",
     "timestamp": 1679509540733,
     "user": {
      "displayName": "JULIO MARCOS MONZON BALDETTI",
      "userId": "13304646209288137935"
     },
     "user_tz": 360
    },
    "id": "998086c7"
   },
   "outputs": [],
   "source": [
    "import numpy as np\n",
    "import matplotlib.pyplot as plt\n",
    "import random as rd\n",
    "\n",
    "import tensorflow as tf\n",
    "from keras.models import Sequential\n",
    "from keras.layers import Flatten,Dense,Dropout,BatchNormalization,LSTM,Conv1D,MaxPool1D\n",
    "from keras.optimizers import Adam\n",
    "from keras.regularizers import l2\n",
    "from keras.callbacks import EarlyStopping\n",
    "\n",
    "plt.rcParams['figure.figsize'] = [8, 6] "
   ]
  },
  {
   "cell_type": "markdown",
   "id": "82058720",
   "metadata": {
    "id": "82058720"
   },
   "source": [
    "# LCG de 8 bits\n",
    "Se define la función \"LCG\" que devuelve una secuencia de números pseudoaleatorios de 8 bits de acuerdo a la fórmula recursiva\n",
    "\n",
    "$X_{n+1} = \\left(aX_n + c\\right)\\text{mod}\\;\\mathcal{M}$ \n",
    "\n",
    "Donde $a$, $c$ y $\\mathcal{M}$ son el multiplicador, incremento y periodo del generador, respectivamente. \n",
    "En este caso, se hace $\\mathcal{M} = 2^{\\text{potencia}}$, donde \"potencia\" es una variable utilizada para definir el periodo del generador."
   ]
  },
  {
   "cell_type": "code",
   "execution_count": null,
   "id": "a6f04f04",
   "metadata": {
    "executionInfo": {
     "elapsed": 381,
     "status": "ok",
     "timestamp": 1679508438007,
     "user": {
      "displayName": "JULIO MARCOS MONZON BALDETTI",
      "userId": "13304646209288137935"
     },
     "user_tz": 360
    },
    "id": "a6f04f04"
   },
   "outputs": [],
   "source": [
    "bits = 8\n",
    "potencia = 20\n",
    "\n",
    "def LCG(seed,longitud):\n",
    "    numeros_generados = np.zeros(longitud, dtype = 'int16')\n",
    "\n",
    "    a = 25214903917\n",
    "    c = 1\n",
    "    M = 2 ** potencia\n",
    "    \n",
    "    xi = seed\n",
    "    xf = 0\n",
    "\n",
    "    numeros_generados[0] = int(((seed%M)/M) * (2 ** bits))\n",
    "\n",
    "    for i in range(1,longitud):\n",
    "        xf = (a*xi + c)%M\n",
    "        xi = xf\n",
    "  \n",
    "        numeros_generados[i] = int((xf/M) * (2 ** bits))\n",
    "\n",
    "    return numeros_generados"
   ]
  },
  {
   "cell_type": "markdown",
   "id": "0386fea2",
   "metadata": {
    "id": "0386fea2"
   },
   "source": [
    "Se crea el arreglo \"muestras\" que será utilizado para construir los conjuntos de machine learning. La semilla se elige aleatoriamente. La secuencia pseudoaleatoria tiene como longitud el periodo del generador."
   ]
  },
  {
   "cell_type": "code",
   "execution_count": null,
   "id": "1856ef23",
   "metadata": {
    "colab": {
     "base_uri": "https://localhost:8080/",
     "height": 279
    },
    "executionInfo": {
     "elapsed": 4869,
     "status": "ok",
     "timestamp": 1679508446306,
     "user": {
      "displayName": "JULIO MARCOS MONZON BALDETTI",
      "userId": "13304646209288137935"
     },
     "user_tz": 360
    },
    "id": "1856ef23",
    "outputId": "32f01e6f-01ff-4471-b634-42805caa2dc7"
   },
   "outputs": [],
   "source": [
    "muestras = LCG(seed = rd.randint(1,1000), longitud = 2 ** potencia)\n",
    "prob_adivinar = 1/(2 ** bits)\n",
    "\n",
    "n, bins, patches = plt.hist(muestras, bins = 2 ** bits, density = 1, color = 'green')\n",
    "plt.axhline(prob_adivinar, color = 'red', label = 'y = ' + str(prob_adivinar))\n",
    "plt.xlabel('Número de 8 bits')\n",
    "plt.ylabel('Probabilidad')\n",
    "plt.legend()\n",
    "plt.grid()\n",
    "plt.show()"
   ]
  },
  {
   "cell_type": "markdown",
   "id": "1c9d6834",
   "metadata": {
    "id": "1c9d6834"
   },
   "source": [
    "# Conjuntos de ML\n",
    "Se construyen los conjuntos de entrenamiento y prueba o test. Como input, se utilizan secuencias cuya longitud es dada por la variable \"longitud_input\". Dichas secuencias se codifican con vectores one-hot. Por otro lado, \"porcentaje\" determina qué fracción de la muestra será para entrenar y cuanto se utilizará para el test final."
   ]
  },
  {
   "cell_type": "code",
   "execution_count": null,
   "id": "43a594ce",
   "metadata": {
    "colab": {
     "base_uri": "https://localhost:8080/"
    },
    "executionInfo": {
     "elapsed": 6877,
     "status": "ok",
     "timestamp": 1679508458909,
     "user": {
      "displayName": "JULIO MARCOS MONZON BALDETTI",
      "userId": "13304646209288137935"
     },
     "user_tz": 360
    },
    "id": "43a594ce",
    "outputId": "c3c6bc69-3baa-4c45-ffb4-efad8103fea9"
   },
   "outputs": [],
   "source": [
    "longitud_input = 13\n",
    "porcentaje = 0.8\n",
    "\n",
    "longitud_entrenamiento = int(porcentaje * 2 ** potencia)\n",
    "longitud_test = int((1 - porcentaje) * 2 ** potencia - (longitud_input + 1))\n",
    "\n",
    "inputs_entrenamiento = np.zeros((longitud_entrenamiento, longitud_input, 2 ** bits), dtype = 'int8')\n",
    "outputs_entrenamiento = np.zeros((longitud_entrenamiento, 2 ** bits), dtype = 'int8')\n",
    "\n",
    "inputs_test = np.zeros((longitud_test, longitud_input, 2 ** bits), dtype = 'int8')\n",
    "outputs_test = np.zeros((longitud_test, 2 ** bits), dtype = 'int8')\n",
    "\n",
    "for i in range(0, longitud_entrenamiento):\n",
    "    for j in range(0, longitud_input):\n",
    "        inputs_entrenamiento[i, j, muestras[i + j]] = 1 \n",
    "    \n",
    "    outputs_entrenamiento[i, muestras[i + longitud_input]] = 1\n",
    "    \n",
    "for i in range(longitud_entrenamiento, longitud_entrenamiento + longitud_test):\n",
    "    for j in range(0, longitud_input):\n",
    "        inputs_test[i - longitud_entrenamiento, j, muestras[i + j]] = 1\n",
    "        \n",
    "    outputs_test[i - longitud_entrenamiento, muestras[i + longitud_input]] = 1\n",
    "    \n",
    "print(inputs_entrenamiento.shape)\n",
    "print(outputs_entrenamiento.shape)\n",
    "print(inputs_test.shape)\n",
    "print(outputs_test.shape)\n",
    "\n",
    "del muestras #Se borra muestras para ahorrar espacio en memoria"
   ]
  },
  {
   "cell_type": "markdown",
   "id": "71ec196d",
   "metadata": {
    "id": "71ec196d"
   },
   "source": [
    "# Modelo de red recurrente convolucional (RCNN)\n",
    "Se construye el modelo de red con keras."
   ]
  },
  {
   "cell_type": "code",
   "execution_count": null,
   "id": "836f3c01",
   "metadata": {
    "colab": {
     "base_uri": "https://localhost:8080/"
    },
    "executionInfo": {
     "elapsed": 7738,
     "status": "ok",
     "timestamp": 1679508518660,
     "user": {
      "displayName": "JULIO MARCOS MONZON BALDETTI",
      "userId": "13304646209288137935"
     },
     "user_tz": 360
    },
    "id": "836f3c01",
    "outputId": "dc0645ff-5c1c-4e77-9050-6cca85815a00"
   },
   "outputs": [],
   "source": [
    "input_data_shape = (longitud_input, 2 ** bits)\n",
    "activacion_conv = 'relu'\n",
    "activacion_lstm = 'tanh'\n",
    "activacion_oculta = 'relu'\n",
    "activacion_output = 'softmax'\n",
    "\n",
    "RCNN = Sequential()\n",
    "\n",
    "RCNN.add(Conv1D(input_shape = input_data_shape, filters = 64, kernel_size = 5, activation = activacion_conv, padding = 'same', name = 'capa_conv_1'))\n",
    "RCNN.add(MaxPool1D(pool_size = 2, name = 'capa_pooling'))\n",
    "RCNN.add(BatchNormalization())\n",
    "RCNN.add(LSTM(units = 128, activation = activacion_lstm, return_sequences = False, name = 'capa_LSTM'))\n",
    "RCNN.add(BatchNormalization())\n",
    "RCNN.add(Dense(units = 64, activation = activacion_oculta, name = 'capa_oculta'))\n",
    "RCNN.add(BatchNormalization())\n",
    "RCNN.add(Dense(2 ** bits, activation = activacion_output, name = 'capa_outputs'))\n",
    "\n",
    "RCNN.summary()"
   ]
  },
  {
   "cell_type": "markdown",
   "id": "b07b11dd",
   "metadata": {
    "id": "b07b11dd"
   },
   "source": [
    "# Entrenamiento\n",
    "Se entrena el modelo de machine learning con el conjunto de entrenamiento. Algunos hiperparámetros como la tasa de entrenamiento y el número de epochs se establecen al principio de la celda. La función de costo es \"categorical_crossentropy\". Adicionalmente, se utiliza un 10% de la data de entrenamiento como data de validación.\n",
    "\n",
    "Cabe mencionar que se aplica un EarlyStopping, el cual detiene el entrenamiento cuando el costo de validación no mejora en 10 epochs consecutivos. Al final del entrenamiento, se guarda la red con los parámetros que minimizaron el costo de validación."
   ]
  },
  {
   "cell_type": "code",
   "execution_count": null,
   "id": "212c3430",
   "metadata": {
    "colab": {
     "base_uri": "https://localhost:8080/"
    },
    "executionInfo": {
     "elapsed": 934032,
     "status": "ok",
     "timestamp": 1679509462032,
     "user": {
      "displayName": "JULIO MARCOS MONZON BALDETTI",
      "userId": "13304646209288137935"
     },
     "user_tz": 360
    },
    "id": "212c3430",
    "outputId": "4a6d6127-7e67-4ac6-b9ac-73c215c7f488"
   },
   "outputs": [],
   "source": [
    "tasa_entrenamiento = 0.001\n",
    "numero_epochs = 200\n",
    "tamanio_minilote = 1024\n",
    "\n",
    "optimizador = Adam(learning_rate = tasa_entrenamiento)\n",
    "funcion_costo = 'categorical_crossentropy'\n",
    "metrica = ['accuracy']\n",
    "callback = EarlyStopping(monitor = 'val_loss', patience = 10, restore_best_weights=True)\n",
    "\n",
    "RCNN.compile(optimizer = optimizador, loss = funcion_costo, metrics = metrica)\n",
    "entrenamiento = RCNN.fit(inputs_entrenamiento, outputs_entrenamiento, batch_size = tamanio_minilote,\n",
    "                        callbacks = [callback], validation_split= 0.1, epochs = numero_epochs)"
   ]
  },
  {
   "cell_type": "markdown",
   "id": "8eef0240",
   "metadata": {
    "id": "8eef0240"
   },
   "source": [
    "# Gráficas\n",
    "Se observa la evolución de la red a través de gráficas de costo y precisión tanto sobre el conjunto de entrenamiento como el conjunto de validación."
   ]
  },
  {
   "cell_type": "code",
   "execution_count": null,
   "id": "0bffea47",
   "metadata": {
    "colab": {
     "base_uri": "https://localhost:8080/",
     "height": 759
    },
    "executionInfo": {
     "elapsed": 935,
     "status": "ok",
     "timestamp": 1679509551990,
     "user": {
      "displayName": "JULIO MARCOS MONZON BALDETTI",
      "userId": "13304646209288137935"
     },
     "user_tz": 360
    },
    "id": "0bffea47",
    "outputId": "d23d4809-81e2-4bc9-df53-c67dc9864d72"
   },
   "outputs": [],
   "source": [
    "plt.plot(entrenamiento.history['accuracy'], label = 'Entrenamiento')\n",
    "plt.plot(entrenamiento.history['val_accuracy'], label = 'Validación')\n",
    "plt.axhline(prob_adivinar, color = 'red', label = 'P. Adivinar')\n",
    "plt.ylabel('Precisión')\n",
    "plt.xlabel('Epoch')\n",
    "plt.grid()\n",
    "plt.legend()\n",
    "plt.show()\n",
    "\n",
    "plt.plot(entrenamiento.history['loss'], label = 'Entrenamiento')\n",
    "plt.plot(entrenamiento.history['val_loss'], label = 'Validación')\n",
    "plt.ylabel('Costo')\n",
    "plt.xlabel('Epoch')\n",
    "plt.grid()\n",
    "plt.legend()\n",
    "plt.show()"
   ]
  },
  {
   "cell_type": "markdown",
   "id": "a4c290ff",
   "metadata": {
    "id": "a4c290ff"
   },
   "source": [
    "# Evaluación\n",
    "Se evalúa la red mediante el conjunto de prueba o test para observar si el modelo pudo generalizarse."
   ]
  },
  {
   "cell_type": "code",
   "execution_count": null,
   "id": "5f6fa653",
   "metadata": {
    "colab": {
     "base_uri": "https://localhost:8080/"
    },
    "executionInfo": {
     "elapsed": 42946,
     "status": "ok",
     "timestamp": 1679509778921,
     "user": {
      "displayName": "JULIO MARCOS MONZON BALDETTI",
      "userId": "13304646209288137935"
     },
     "user_tz": 360
    },
    "id": "5f6fa653",
    "outputId": "13bae3e9-1e46-4907-d346-ad432dd7dd21"
   },
   "outputs": [],
   "source": [
    "costo_test, precision_test = RCNN.evaluate(inputs_test, outputs_test)\n",
    "\n",
    "print(\"El costo sobre el conjunto de prueba es: \" + str(costo_test))\n",
    "print(\"La precisión sobre el conjunto de prueba es: \" + str(precision_test))"
   ]
  }
 ],
 "metadata": {
  "accelerator": "GPU",
  "colab": {
   "provenance": []
  },
  "gpuClass": "standard",
  "kernelspec": {
   "display_name": "Python 3 (ipykernel)",
   "language": "python",
   "name": "python3"
  },
  "language_info": {
   "codemirror_mode": {
    "name": "ipython",
    "version": 3
   },
   "file_extension": ".py",
   "mimetype": "text/x-python",
   "name": "python",
   "nbconvert_exporter": "python",
   "pygments_lexer": "ipython3",
   "version": "3.9.13"
  }
 },
 "nbformat": 4,
 "nbformat_minor": 5
}
